{
 "cells": [
  {
   "cell_type": "code",
   "execution_count": 1,
   "metadata": {},
   "outputs": [],
   "source": [
    "import os\n",
    "import re"
   ]
  },
  {
   "cell_type": "code",
   "execution_count": 2,
   "metadata": {},
   "outputs": [],
   "source": [
    "'''\n",
    "本部分是对文本的预处理部分，我们的原始语料库中前几行基本上是无用的信息，\n",
    "所以需要想办法删除（标题和正文内容需要保留，其中对标题的处理可以直接提取三元组）\n",
    "'''\n",
    "\n",
    "def text_ext():\n",
    "    target_file = open('middle_data.txt', 'w', encoding='utf-8') # 中间文件\n",
    "    datapath = './original_data'\n",
    "    dirs = os.listdir(datapath)\n",
    "    for dir in dirs:\n",
    "        fname = datapath + '\\\\' + dir\n",
    "        # print(fname)\n",
    "        with open(fname, 'r', encoding='utf-8') as src_file:\n",
    "            lines = src_file.readlines()\n",
    "            dirtyid = [0,1,2] # 删除1,2，3行\n",
    "            str_new = ''\n",
    "            for x in range(len(lines)):\n",
    "                if x not in dirtyid:\n",
    "                    str_new = str_new + lines[x].rstrip('\\n') # 删除换行符\n",
    "            # print(str_new)\n",
    "            # str_new是一个非常长的文本，接下来需要删除其中的空格，然后按照句号将其分为句子\n",
    "            no_spaces = re.sub(r\"\\s+\", \"\", str_new)\n",
    "            # print(no_spaces)\n",
    "            sentences = no_spaces.split('。') # 以句号为分隔符，将文本分为句子\n",
    "            for sentence in sentences:\n",
    "                target_file.write(sentence + '\\n') # 将句子写入到目标文件中，每个句子占一行\n",
    "    target_file.close()\n",
    "\n",
    "def clearBlankLine(): # 删除文本中的空行\n",
    "    file1 = open('middle_data.txt', 'r', encoding='utf-8') # 要去掉空行的文件\n",
    "    file2 = open('./data/text_data.txt', 'w', encoding='utf-8') # 生成没有空行的文件\n",
    "    try:\n",
    "        for line in file1.readlines():\n",
    "            if line == '\\n':\n",
    "                line = line.strip(\"\\n\")\n",
    "            file2.write(line)\n",
    "    finally:\n",
    "        file1.close()\n",
    "        file2.close()\n",
    "\n"
   ]
  },
  {
   "cell_type": "code",
   "execution_count": 3,
   "metadata": {},
   "outputs": [],
   "source": [
    "'''\n",
    "本部分是对标题的预处理，对标题并没有什么需要特殊处理的，而且因为新闻标题的特殊性，其蕴含很多有用信息，因此直接提取文本首行即可\n",
    "'''\n",
    "def title_ext():\n",
    "    target_file=open('./data/title_data.txt','w',encoding='utf-8')                                          #汇总结果文件\n",
    "    #提取data文件夹中所有文件的第一行\n",
    "    datapath = './original_data'\n",
    "    dirs = os.listdir(datapath)           #dirs得到所有txt文件名\n",
    "    for dir in dirs:\n",
    "        fname = datapath+'\\\\'+dir\n",
    "        with open(fname,'r',encoding='utf-8')as src_file:\n",
    "            lines =src_file.readlines()\n",
    "            first_line = lines[0] # 取第一行\n",
    "            # print(first_line)\n",
    "            target_file.write(first_line)                                         \n",
    "    target_file.close()"
   ]
  },
  {
   "cell_type": "code",
   "execution_count": 4,
   "metadata": {},
   "outputs": [
    {
     "name": "stdout",
     "output_type": "stream",
     "text": [
      "文本预处理完成\n",
      "标题预处理完成\n"
     ]
    }
   ],
   "source": [
    "# 分别执行文本预处理和标题预处理\n",
    "if __name__ == '__main__':\n",
    "    text_ext()\n",
    "    clearBlankLine()\n",
    "    os.remove('middle_data.txt') # 删除中间文件\n",
    "    print('文本预处理完成')\n",
    "\n",
    "    title_ext()\n",
    "    print('标题预处理完成')"
   ]
  },
  {
   "cell_type": "code",
   "execution_count": null,
   "metadata": {},
   "outputs": [],
   "source": []
  }
 ],
 "metadata": {
  "kernelspec": {
   "display_name": "pytorch_py3.7",
   "language": "python",
   "name": "python3"
  },
  "language_info": {
   "codemirror_mode": {
    "name": "ipython",
    "version": 3
   },
   "file_extension": ".py",
   "mimetype": "text/x-python",
   "name": "python",
   "nbconvert_exporter": "python",
   "pygments_lexer": "ipython3",
   "version": "3.7.16"
  },
  "orig_nbformat": 4
 },
 "nbformat": 4,
 "nbformat_minor": 2
}
