{
 "cells": [
  {
   "cell_type": "code",
   "execution_count": null,
   "metadata": {},
   "outputs": [],
   "source": [
    "# 使用github上面直接找到的库计算中文词语的相似度效果实在不是很好，这里自己手动利用专业领域的语料训练一个word2vec模型"
   ]
  },
  {
   "cell_type": "code",
   "execution_count": null,
   "metadata": {},
   "outputs": [],
   "source": [
    "# 1.将text_data.txt和title_data.txt合并成一个文件，命名为data.txt\n",
    "with open('./data/text_data.txt', 'r', encoding='utf-8') as f_1, open('./data/title_data.txt', 'r', encoding='utf-8') as f_2, open('./data/corups.txt', 'w', encoding='utf-8') as f_3:\n",
    "    for line in f_1.readlines():\n",
    "        f_3.write(line)\n",
    "    for line in f_2.readlines():\n",
    "        f_3.write(line)\n",
    "print('合并完成')"
   ]
  },
  {
   "cell_type": "code",
   "execution_count": 2,
   "metadata": {},
   "outputs": [],
   "source": [
    "# 2.将txt文件转化为csv文件\n",
    "import csv\n",
    "\n",
    "txt_file = './data/corpus.txt'\n",
    "csv_file = './data/corpus.csv'\n",
    "\n",
    "\n",
    "with open(txt_file, 'r') as input_file:\n",
    "   \n",
    "    with open(csv_file, 'w', newline='') as output_file:\n",
    "        \n",
    "        csv_writer = csv.writer(output_file)\n",
    "\n",
    "        \n",
    "        for line in input_file:\n",
    "           \n",
    "            fields = line.strip().split()\n",
    "\n",
    "   \n",
    "            csv_writer.writerow(fields)\n"
   ]
  },
  {
   "cell_type": "code",
   "execution_count": 3,
   "metadata": {},
   "outputs": [],
   "source": [
    "# 3.语料预处理\n",
    "import pandas as pd\n",
    "import jieba    # 导入包\n",
    "import re # 导入字符处理工具,正则表达式\n",
    "\n",
    "def clean_text(data, stopword):\n",
    "        \"\"\"\n",
    "        data: 数据，待分词的Series序列，用pandas读取\n",
    "        stopword:停用词\n",
    "        \"\"\"\n",
    "        # 去除无用字符\n",
    "        pattern = re.compile(r'[\\sA-Za-z～()（）【】%*#+-\\.\\\\\\/:=：__,，。、;；“”\"\"''’‘？?！!<《》>^&{}|=……]')\n",
    "        corpus_ = data.apply(lambda s: re.sub(pattern, '', str(s)))\n",
    "        # 分词\n",
    "        text = corpus_.apply(jieba.lcut)\n",
    "        # 过滤通用词\n",
    "        text = text.apply(lambda cut_words: [word for word in cut_words if word not in stopword])\n",
    "        return text\n"
   ]
  },
  {
   "cell_type": "code",
   "execution_count": 4,
   "metadata": {},
   "outputs": [
    {
     "name": "stderr",
     "output_type": "stream",
     "text": [
      "b'Skipping line 6868: expected 1 fields, saw 2\\nSkipping line 6872: expected 1 fields, saw 2\\nSkipping line 6875: expected 1 fields, saw 2\\nSkipping line 6876: expected 1 fields, saw 2\\nSkipping line 6879: expected 1 fields, saw 2\\nSkipping line 6880: expected 1 fields, saw 2\\nSkipping line 6881: expected 1 fields, saw 2\\nSkipping line 6882: expected 1 fields, saw 2\\nSkipping line 6883: expected 1 fields, saw 2\\nSkipping line 6884: expected 1 fields, saw 2\\nSkipping line 6885: expected 1 fields, saw 2\\nSkipping line 6886: expected 1 fields, saw 2\\nSkipping line 6887: expected 1 fields, saw 2\\nSkipping line 6900: expected 1 fields, saw 2\\nSkipping line 6901: expected 1 fields, saw 2\\nSkipping line 6902: expected 1 fields, saw 2\\nSkipping line 6903: expected 1 fields, saw 2\\nSkipping line 6904: expected 1 fields, saw 2\\nSkipping line 6905: expected 1 fields, saw 2\\nSkipping line 6906: expected 1 fields, saw 2\\nSkipping line 6907: expected 1 fields, saw 2\\nSkipping line 6909: expected 1 fields, saw 2\\nSkipping line 6910: expected 1 fields, saw 2\\nSkipping line 6911: expected 1 fields, saw 2\\nSkipping line 6913: expected 1 fields, saw 2\\nSkipping line 6914: expected 1 fields, saw 2\\nSkipping line 6915: expected 1 fields, saw 2\\nSkipping line 6916: expected 1 fields, saw 2\\nSkipping line 6917: expected 1 fields, saw 2\\nSkipping line 6919: expected 1 fields, saw 2\\nSkipping line 6921: expected 1 fields, saw 2\\nSkipping line 6922: expected 1 fields, saw 2\\nSkipping line 6923: expected 1 fields, saw 2\\nSkipping line 6924: expected 1 fields, saw 2\\nSkipping line 6925: expected 1 fields, saw 2\\nSkipping line 6926: expected 1 fields, saw 2\\nSkipping line 6928: expected 1 fields, saw 2\\nSkipping line 6929: expected 1 fields, saw 2\\nSkipping line 6931: expected 1 fields, saw 2\\nSkipping line 6932: expected 1 fields, saw 2\\nSkipping line 6933: expected 1 fields, saw 2\\nSkipping line 6934: expected 1 fields, saw 2\\nSkipping line 6935: expected 1 fields, saw 2\\nSkipping line 6936: expected 1 fields, saw 2\\nSkipping line 6938: expected 1 fields, saw 2\\nSkipping line 6939: expected 1 fields, saw 2\\nSkipping line 6940: expected 1 fields, saw 2\\nSkipping line 6946: expected 1 fields, saw 2\\nSkipping line 6947: expected 1 fields, saw 2\\nSkipping line 6948: expected 1 fields, saw 2\\nSkipping line 6949: expected 1 fields, saw 2\\nSkipping line 6950: expected 1 fields, saw 2\\nSkipping line 6951: expected 1 fields, saw 2\\nSkipping line 6955: expected 1 fields, saw 2\\nSkipping line 6956: expected 1 fields, saw 2\\nSkipping line 6957: expected 1 fields, saw 2\\nSkipping line 6958: expected 1 fields, saw 2\\nSkipping line 6959: expected 1 fields, saw 2\\nSkipping line 6960: expected 1 fields, saw 2\\nSkipping line 6962: expected 1 fields, saw 2\\nSkipping line 6963: expected 1 fields, saw 2\\nSkipping line 6966: expected 1 fields, saw 2\\nSkipping line 6967: expected 1 fields, saw 2\\nSkipping line 6968: expected 1 fields, saw 2\\nSkipping line 6969: expected 1 fields, saw 2\\nSkipping line 6971: expected 1 fields, saw 2\\nSkipping line 6972: expected 1 fields, saw 2\\nSkipping line 6973: expected 1 fields, saw 2\\nSkipping line 6974: expected 1 fields, saw 2\\nSkipping line 6978: expected 1 fields, saw 2\\nSkipping line 6980: expected 1 fields, saw 2\\nSkipping line 6981: expected 1 fields, saw 2\\nSkipping line 6982: expected 1 fields, saw 2\\nSkipping line 6983: expected 1 fields, saw 2\\nSkipping line 6984: expected 1 fields, saw 2\\nSkipping line 6985: expected 1 fields, saw 2\\nSkipping line 6986: expected 1 fields, saw 2\\nSkipping line 6987: expected 1 fields, saw 2\\nSkipping line 6990: expected 1 fields, saw 2\\nSkipping line 6991: expected 1 fields, saw 2\\nSkipping line 6993: expected 1 fields, saw 2\\nSkipping line 6994: expected 1 fields, saw 2\\nSkipping line 6995: expected 1 fields, saw 2\\nSkipping line 6996: expected 1 fields, saw 2\\nSkipping line 6998: expected 1 fields, saw 2\\nSkipping line 7000: expected 1 fields, saw 2\\nSkipping line 7001: expected 1 fields, saw 2\\nSkipping line 7002: expected 1 fields, saw 2\\nSkipping line 7003: expected 1 fields, saw 2\\nSkipping line 7004: expected 1 fields, saw 2\\nSkipping line 7005: expected 1 fields, saw 2\\nSkipping line 7007: expected 1 fields, saw 2\\nSkipping line 7008: expected 1 fields, saw 2\\nSkipping line 7010: expected 1 fields, saw 2\\nSkipping line 7011: expected 1 fields, saw 2\\nSkipping line 7012: expected 1 fields, saw 2\\nSkipping line 7013: expected 1 fields, saw 2\\nSkipping line 7014: expected 1 fields, saw 2\\nSkipping line 7015: expected 1 fields, saw 2\\nSkipping line 7016: expected 1 fields, saw 2\\nSkipping line 7019: expected 1 fields, saw 2\\nSkipping line 7020: expected 1 fields, saw 2\\nSkipping line 7021: expected 1 fields, saw 2\\nSkipping line 7025: expected 1 fields, saw 2\\nSkipping line 7026: expected 1 fields, saw 2\\nSkipping line 7027: expected 1 fields, saw 2\\nSkipping line 7028: expected 1 fields, saw 2\\nSkipping line 7029: expected 1 fields, saw 2\\nSkipping line 7030: expected 1 fields, saw 2\\nSkipping line 7032: expected 1 fields, saw 2\\nSkipping line 7033: expected 1 fields, saw 2\\nSkipping line 7035: expected 1 fields, saw 2\\nSkipping line 7036: expected 1 fields, saw 2\\nSkipping line 7037: expected 1 fields, saw 2\\nSkipping line 7039: expected 1 fields, saw 2\\nSkipping line 7040: expected 1 fields, saw 2\\nSkipping line 7041: expected 1 fields, saw 2\\nSkipping line 7042: expected 1 fields, saw 2\\nSkipping line 7043: expected 1 fields, saw 2\\nSkipping line 7044: expected 1 fields, saw 2\\nSkipping line 7045: expected 1 fields, saw 2\\nSkipping line 7050: expected 1 fields, saw 2\\nSkipping line 7051: expected 1 fields, saw 2\\nSkipping line 7052: expected 1 fields, saw 2\\nSkipping line 7053: expected 1 fields, saw 2\\nSkipping line 7055: expected 1 fields, saw 2\\nSkipping line 7057: expected 1 fields, saw 2\\nSkipping line 7058: expected 1 fields, saw 2\\nSkipping line 7059: expected 1 fields, saw 2\\nSkipping line 7060: expected 1 fields, saw 2\\nSkipping line 7061: expected 1 fields, saw 2\\nSkipping line 7062: expected 1 fields, saw 2\\nSkipping line 7063: expected 1 fields, saw 2\\nSkipping line 7064: expected 1 fields, saw 2\\nSkipping line 7065: expected 1 fields, saw 2\\nSkipping line 7066: expected 1 fields, saw 2\\nSkipping line 7067: expected 1 fields, saw 2\\nSkipping line 7068: expected 1 fields, saw 2\\nSkipping line 7069: expected 1 fields, saw 2\\nSkipping line 7070: expected 1 fields, saw 2\\nSkipping line 7071: expected 1 fields, saw 2\\nSkipping line 7072: expected 1 fields, saw 2\\nSkipping line 7073: expected 1 fields, saw 2\\nSkipping line 7074: expected 1 fields, saw 2\\nSkipping line 7075: expected 1 fields, saw 2\\nSkipping line 7077: expected 1 fields, saw 2\\nSkipping line 7078: expected 1 fields, saw 2\\nSkipping line 7079: expected 1 fields, saw 2\\nSkipping line 7080: expected 1 fields, saw 2\\nSkipping line 7081: expected 1 fields, saw 2\\nSkipping line 7082: expected 1 fields, saw 2\\nSkipping line 7083: expected 1 fields, saw 2\\nSkipping line 7084: expected 1 fields, saw 2\\nSkipping line 7085: expected 1 fields, saw 2\\nSkipping line 7086: expected 1 fields, saw 2\\nSkipping line 7088: expected 1 fields, saw 2\\nSkipping line 7090: expected 1 fields, saw 2\\nSkipping line 7091: expected 1 fields, saw 2\\nSkipping line 7092: expected 1 fields, saw 2\\nSkipping line 7093: expected 1 fields, saw 2\\nSkipping line 7094: expected 1 fields, saw 2\\nSkipping line 7095: expected 1 fields, saw 2\\nSkipping line 7096: expected 1 fields, saw 2\\nSkipping line 7097: expected 1 fields, saw 2\\nSkipping line 7098: expected 1 fields, saw 2\\nSkipping line 7099: expected 1 fields, saw 2\\nSkipping line 7100: expected 1 fields, saw 2\\nSkipping line 7101: expected 1 fields, saw 2\\nSkipping line 7102: expected 1 fields, saw 2\\nSkipping line 7103: expected 1 fields, saw 2\\nSkipping line 7104: expected 1 fields, saw 2\\nSkipping line 7105: expected 1 fields, saw 2\\nSkipping line 7107: expected 1 fields, saw 2\\nSkipping line 7108: expected 1 fields, saw 2\\nSkipping line 7109: expected 1 fields, saw 2\\nSkipping line 7110: expected 1 fields, saw 2\\nSkipping line 7111: expected 1 fields, saw 2\\nSkipping line 7112: expected 1 fields, saw 2\\nSkipping line 7113: expected 1 fields, saw 2\\nSkipping line 7114: expected 1 fields, saw 2\\nSkipping line 7115: expected 1 fields, saw 2\\nSkipping line 7116: expected 1 fields, saw 2\\nSkipping line 7117: expected 1 fields, saw 2\\nSkipping line 7118: expected 1 fields, saw 2\\nSkipping line 7119: expected 1 fields, saw 2\\nSkipping line 7121: expected 1 fields, saw 2\\nSkipping line 7122: expected 1 fields, saw 2\\nSkipping line 7123: expected 1 fields, saw 2\\nSkipping line 7124: expected 1 fields, saw 2\\nSkipping line 7125: expected 1 fields, saw 2\\nSkipping line 7127: expected 1 fields, saw 2\\nSkipping line 7130: expected 1 fields, saw 2\\nSkipping line 7131: expected 1 fields, saw 2\\nSkipping line 7132: expected 1 fields, saw 2\\nSkipping line 7133: expected 1 fields, saw 2\\nSkipping line 7139: expected 1 fields, saw 2\\nSkipping line 7141: expected 1 fields, saw 2\\nSkipping line 7142: expected 1 fields, saw 2\\nSkipping line 7143: expected 1 fields, saw 2\\nSkipping line 7145: expected 1 fields, saw 2\\nSkipping line 7146: expected 1 fields, saw 2\\nSkipping line 7147: expected 1 fields, saw 2\\nSkipping line 7148: expected 1 fields, saw 2\\nSkipping line 7150: expected 1 fields, saw 2\\nSkipping line 7151: expected 1 fields, saw 2\\nSkipping line 7152: expected 1 fields, saw 2\\nSkipping line 7153: expected 1 fields, saw 2\\nSkipping line 7154: expected 1 fields, saw 2\\nSkipping line 7155: expected 1 fields, saw 2\\nSkipping line 7156: expected 1 fields, saw 2\\nSkipping line 7157: expected 1 fields, saw 2\\nSkipping line 7158: expected 1 fields, saw 2\\nSkipping line 7159: expected 1 fields, saw 2\\nSkipping line 7160: expected 1 fields, saw 2\\nSkipping line 7163: expected 1 fields, saw 2\\nSkipping line 7165: expected 1 fields, saw 2\\nSkipping line 7166: expected 1 fields, saw 2\\nSkipping line 7167: expected 1 fields, saw 2\\nSkipping line 7168: expected 1 fields, saw 2\\nSkipping line 7169: expected 1 fields, saw 2\\nSkipping line 7170: expected 1 fields, saw 2\\nSkipping line 7172: expected 1 fields, saw 2\\nSkipping line 7173: expected 1 fields, saw 2\\nSkipping line 7174: expected 1 fields, saw 2\\nSkipping line 7175: expected 1 fields, saw 2\\nSkipping line 7176: expected 1 fields, saw 2\\nSkipping line 7177: expected 1 fields, saw 2\\nSkipping line 7178: expected 1 fields, saw 2\\nSkipping line 7179: expected 1 fields, saw 2\\nSkipping line 7180: expected 1 fields, saw 2\\nSkipping line 7181: expected 1 fields, saw 2\\nSkipping line 7182: expected 1 fields, saw 2\\nSkipping line 7183: expected 1 fields, saw 2\\nSkipping line 7184: expected 1 fields, saw 2\\nSkipping line 7185: expected 1 fields, saw 2\\nSkipping line 7186: expected 1 fields, saw 2\\nSkipping line 7187: expected 1 fields, saw 2\\nSkipping line 7188: expected 1 fields, saw 2\\nSkipping line 7190: expected 1 fields, saw 2\\nSkipping line 7191: expected 1 fields, saw 2\\nSkipping line 7194: expected 1 fields, saw 2\\nSkipping line 7195: expected 1 fields, saw 2\\nSkipping line 7196: expected 1 fields, saw 2\\nSkipping line 7197: expected 1 fields, saw 2\\nSkipping line 7204: expected 1 fields, saw 2\\nSkipping line 7206: expected 1 fields, saw 2\\nSkipping line 7207: expected 1 fields, saw 2\\nSkipping line 7209: expected 1 fields, saw 2\\nSkipping line 7211: expected 1 fields, saw 2\\nSkipping line 7212: expected 1 fields, saw 2\\nSkipping line 7213: expected 1 fields, saw 2\\nSkipping line 7214: expected 1 fields, saw 2\\nSkipping line 7215: expected 1 fields, saw 2\\nSkipping line 7216: expected 1 fields, saw 2\\nSkipping line 7217: expected 1 fields, saw 2\\nSkipping line 7218: expected 1 fields, saw 2\\nSkipping line 7220: expected 1 fields, saw 2\\nSkipping line 7221: expected 1 fields, saw 2\\nSkipping line 7223: expected 1 fields, saw 2\\nSkipping line 7224: expected 1 fields, saw 2\\nSkipping line 7225: expected 1 fields, saw 2\\nSkipping line 7226: expected 1 fields, saw 2\\nSkipping line 7227: expected 1 fields, saw 2\\nSkipping line 7228: expected 1 fields, saw 2\\nSkipping line 7230: expected 1 fields, saw 2\\nSkipping line 7231: expected 1 fields, saw 2\\nSkipping line 7232: expected 1 fields, saw 2\\nSkipping line 7233: expected 1 fields, saw 2\\nSkipping line 7236: expected 1 fields, saw 2\\nSkipping line 7238: expected 1 fields, saw 2\\nSkipping line 7239: expected 1 fields, saw 2\\nSkipping line 7240: expected 1 fields, saw 2\\nSkipping line 7241: expected 1 fields, saw 2\\nSkipping line 7242: expected 1 fields, saw 2\\nSkipping line 7243: expected 1 fields, saw 2\\nSkipping line 7244: expected 1 fields, saw 2\\nSkipping line 7245: expected 1 fields, saw 2\\nSkipping line 7246: expected 1 fields, saw 2\\nSkipping line 7247: expected 1 fields, saw 2\\nSkipping line 7248: expected 1 fields, saw 2\\nSkipping line 7249: expected 1 fields, saw 2\\nSkipping line 7250: expected 1 fields, saw 2\\nSkipping line 7251: expected 1 fields, saw 2\\nSkipping line 7252: expected 1 fields, saw 2\\nSkipping line 7253: expected 1 fields, saw 2\\nSkipping line 7254: expected 1 fields, saw 2\\nSkipping line 7255: expected 1 fields, saw 2\\nSkipping line 7256: expected 1 fields, saw 2\\nSkipping line 7257: expected 1 fields, saw 2\\nSkipping line 7258: expected 1 fields, saw 2\\nSkipping line 7259: expected 1 fields, saw 2\\nSkipping line 7260: expected 1 fields, saw 2\\nSkipping line 7261: expected 1 fields, saw 2\\nSkipping line 7262: expected 1 fields, saw 2\\nSkipping line 7263: expected 1 fields, saw 2\\nSkipping line 7264: expected 1 fields, saw 2\\nSkipping line 7265: expected 1 fields, saw 2\\nSkipping line 7266: expected 1 fields, saw 2\\nSkipping line 7268: expected 1 fields, saw 2\\nSkipping line 7269: expected 1 fields, saw 2\\nSkipping line 7270: expected 1 fields, saw 2\\nSkipping line 7271: expected 1 fields, saw 2\\nSkipping line 7272: expected 1 fields, saw 2\\nSkipping line 7273: expected 1 fields, saw 2\\nSkipping line 7274: expected 1 fields, saw 2\\nSkipping line 7277: expected 1 fields, saw 2\\nSkipping line 7278: expected 1 fields, saw 2\\nSkipping line 7279: expected 1 fields, saw 2\\nSkipping line 7280: expected 1 fields, saw 2\\nSkipping line 7281: expected 1 fields, saw 2\\nSkipping line 7282: expected 1 fields, saw 2\\nSkipping line 7284: expected 1 fields, saw 2\\nSkipping line 7285: expected 1 fields, saw 2\\nSkipping line 7286: expected 1 fields, saw 2\\nSkipping line 7287: expected 1 fields, saw 2\\nSkipping line 7288: expected 1 fields, saw 2\\nSkipping line 7290: expected 1 fields, saw 2\\nSkipping line 7291: expected 1 fields, saw 2\\nSkipping line 7292: expected 1 fields, saw 2\\nSkipping line 7293: expected 1 fields, saw 2\\nSkipping line 7294: expected 1 fields, saw 2\\nSkipping line 7295: expected 1 fields, saw 2\\nSkipping line 7296: expected 1 fields, saw 2\\nSkipping line 7297: expected 1 fields, saw 2\\nSkipping line 7298: expected 1 fields, saw 2\\nSkipping line 7299: expected 1 fields, saw 2\\nSkipping line 7300: expected 1 fields, saw 2\\nSkipping line 7303: expected 1 fields, saw 2\\nSkipping line 7305: expected 1 fields, saw 2\\nSkipping line 7307: expected 1 fields, saw 2\\nSkipping line 7308: expected 1 fields, saw 2\\nSkipping line 7309: expected 1 fields, saw 2\\nSkipping line 7310: expected 1 fields, saw 2\\nSkipping line 7311: expected 1 fields, saw 2\\nSkipping line 7313: expected 1 fields, saw 2\\nSkipping line 7314: expected 1 fields, saw 2\\nSkipping line 7315: expected 1 fields, saw 2\\nSkipping line 7316: expected 1 fields, saw 2\\nSkipping line 7317: expected 1 fields, saw 2\\nSkipping line 7318: expected 1 fields, saw 2\\nSkipping line 7319: expected 1 fields, saw 2\\nSkipping line 7320: expected 1 fields, saw 2\\nSkipping line 7321: expected 1 fields, saw 2\\nSkipping line 7323: expected 1 fields, saw 2\\nSkipping line 7324: expected 1 fields, saw 2\\nSkipping line 7325: expected 1 fields, saw 2\\nSkipping line 7326: expected 1 fields, saw 2\\nSkipping line 7327: expected 1 fields, saw 2\\nSkipping line 7328: expected 1 fields, saw 2\\nSkipping line 7330: expected 1 fields, saw 2\\nSkipping line 7331: expected 1 fields, saw 2\\nSkipping line 7332: expected 1 fields, saw 2\\nSkipping line 7335: expected 1 fields, saw 2\\nSkipping line 7336: expected 1 fields, saw 2\\nSkipping line 7337: expected 1 fields, saw 2\\nSkipping line 7338: expected 1 fields, saw 2\\nSkipping line 7339: expected 1 fields, saw 2\\nSkipping line 7340: expected 1 fields, saw 2\\nSkipping line 7341: expected 1 fields, saw 2\\nSkipping line 7343: expected 1 fields, saw 2\\nSkipping line 7344: expected 1 fields, saw 2\\nSkipping line 7345: expected 1 fields, saw 2\\nSkipping line 7346: expected 1 fields, saw 2\\nSkipping line 7347: expected 1 fields, saw 2\\nSkipping line 7348: expected 1 fields, saw 2\\nSkipping line 7349: expected 1 fields, saw 2\\nSkipping line 7350: expected 1 fields, saw 2\\nSkipping line 7351: expected 1 fields, saw 2\\nSkipping line 7352: expected 1 fields, saw 2\\nSkipping line 7353: expected 1 fields, saw 2\\nSkipping line 7354: expected 1 fields, saw 2\\nSkipping line 7355: expected 1 fields, saw 2\\nSkipping line 7358: expected 1 fields, saw 2\\nSkipping line 7359: expected 1 fields, saw 2\\nSkipping line 7360: expected 1 fields, saw 2\\nSkipping line 7362: expected 1 fields, saw 2\\nSkipping line 7363: expected 1 fields, saw 2\\nSkipping line 7364: expected 1 fields, saw 2\\nSkipping line 7365: expected 1 fields, saw 2\\nSkipping line 7366: expected 1 fields, saw 2\\nSkipping line 7368: expected 1 fields, saw 2\\nSkipping line 7369: expected 1 fields, saw 2\\nSkipping line 7372: expected 1 fields, saw 2\\nSkipping line 7373: expected 1 fields, saw 2\\nSkipping line 7374: expected 1 fields, saw 2\\nSkipping line 7375: expected 1 fields, saw 2\\nSkipping line 7376: expected 1 fields, saw 2\\nSkipping line 7377: expected 1 fields, saw 2\\nSkipping line 7378: expected 1 fields, saw 2\\nSkipping line 7379: expected 1 fields, saw 2\\nSkipping line 7381: expected 1 fields, saw 2\\nSkipping line 7385: expected 1 fields, saw 2\\nSkipping line 7386: expected 1 fields, saw 2\\nSkipping line 7387: expected 1 fields, saw 2\\nSkipping line 7388: expected 1 fields, saw 2\\nSkipping line 7398: expected 1 fields, saw 2\\nSkipping line 7404: expected 1 fields, saw 2\\nSkipping line 7405: expected 1 fields, saw 2\\nSkipping line 7406: expected 1 fields, saw 2\\nSkipping line 7407: expected 1 fields, saw 2\\nSkipping line 7409: expected 1 fields, saw 2\\nSkipping line 7410: expected 1 fields, saw 2\\nSkipping line 7411: expected 1 fields, saw 2\\nSkipping line 7413: expected 1 fields, saw 2\\nSkipping line 7414: expected 1 fields, saw 2\\nSkipping line 7415: expected 1 fields, saw 2\\nSkipping line 7416: expected 1 fields, saw 2\\nSkipping line 7417: expected 1 fields, saw 2\\nSkipping line 7418: expected 1 fields, saw 2\\nSkipping line 7419: expected 1 fields, saw 2\\nSkipping line 7420: expected 1 fields, saw 2\\nSkipping line 7421: expected 1 fields, saw 2\\nSkipping line 7422: expected 1 fields, saw 2\\nSkipping line 7423: expected 1 fields, saw 2\\nSkipping line 7424: expected 1 fields, saw 2\\nSkipping line 7425: expected 1 fields, saw 2\\nSkipping line 7426: expected 1 fields, saw 2\\nSkipping line 7427: expected 1 fields, saw 2\\nSkipping line 7428: expected 1 fields, saw 2\\nSkipping line 7429: expected 1 fields, saw 2\\nSkipping line 7430: expected 1 fields, saw 2\\nSkipping line 7431: expected 1 fields, saw 2\\nSkipping line 7432: expected 1 fields, saw 2\\nSkipping line 7433: expected 1 fields, saw 2\\nSkipping line 7434: expected 1 fields, saw 2\\nSkipping line 7436: expected 1 fields, saw 2\\nSkipping line 7437: expected 1 fields, saw 2\\nSkipping line 7438: expected 1 fields, saw 2\\nSkipping line 7439: expected 1 fields, saw 2\\nSkipping line 7440: expected 1 fields, saw 2\\nSkipping line 7441: expected 1 fields, saw 2\\nSkipping line 7442: expected 1 fields, saw 2\\nSkipping line 7443: expected 1 fields, saw 2\\nSkipping line 7444: expected 1 fields, saw 2\\nSkipping line 7445: expected 1 fields, saw 2\\nSkipping line 7447: expected 1 fields, saw 2\\nSkipping line 7450: expected 1 fields, saw 2\\nSkipping line 7452: expected 1 fields, saw 2\\nSkipping line 7453: expected 1 fields, saw 2\\nSkipping line 7454: expected 1 fields, saw 2\\nSkipping line 7455: expected 1 fields, saw 2\\nSkipping line 7456: expected 1 fields, saw 2\\nSkipping line 7457: expected 1 fields, saw 2\\nSkipping line 7458: expected 1 fields, saw 2\\nSkipping line 7459: expected 1 fields, saw 2\\nSkipping line 7460: expected 1 fields, saw 2\\nSkipping line 7461: expected 1 fields, saw 2\\nSkipping line 7462: expected 1 fields, saw 2\\nSkipping line 7463: expected 1 fields, saw 2\\nSkipping line 7464: expected 1 fields, saw 2\\nSkipping line 7465: expected 1 fields, saw 2\\nSkipping line 7466: expected 1 fields, saw 2\\nSkipping line 7468: expected 1 fields, saw 2\\nSkipping line 7470: expected 1 fields, saw 2\\nSkipping line 7471: expected 1 fields, saw 2\\nSkipping line 7472: expected 1 fields, saw 2\\nSkipping line 7473: expected 1 fields, saw 2\\nSkipping line 7474: expected 1 fields, saw 2\\nSkipping line 7475: expected 1 fields, saw 2\\nSkipping line 7476: expected 1 fields, saw 2\\nSkipping line 7477: expected 1 fields, saw 2\\nSkipping line 7479: expected 1 fields, saw 2\\nSkipping line 7480: expected 1 fields, saw 2\\nSkipping line 7481: expected 1 fields, saw 2\\nSkipping line 7483: expected 1 fields, saw 2\\nSkipping line 7484: expected 1 fields, saw 2\\nSkipping line 7485: expected 1 fields, saw 2\\nSkipping line 7486: expected 1 fields, saw 2\\nSkipping line 7488: expected 1 fields, saw 2\\nSkipping line 7489: expected 1 fields, saw 2\\nSkipping line 7490: expected 1 fields, saw 2\\nSkipping line 7492: expected 1 fields, saw 2\\nSkipping line 7494: expected 1 fields, saw 2\\nSkipping line 7495: expected 1 fields, saw 2\\nSkipping line 7496: expected 1 fields, saw 2\\nSkipping line 7497: expected 1 fields, saw 2\\nSkipping line 7498: expected 1 fields, saw 2\\nSkipping line 7499: expected 1 fields, saw 2\\nSkipping line 7500: expected 1 fields, saw 2\\nSkipping line 7501: expected 1 fields, saw 2\\nSkipping line 7502: expected 1 fields, saw 2\\nSkipping line 7503: expected 1 fields, saw 2\\nSkipping line 7504: expected 1 fields, saw 2\\nSkipping line 7505: expected 1 fields, saw 2\\nSkipping line 7506: expected 1 fields, saw 2\\nSkipping line 7507: expected 1 fields, saw 2\\nSkipping line 7509: expected 1 fields, saw 2\\nSkipping line 7510: expected 1 fields, saw 2\\nSkipping line 7511: expected 1 fields, saw 2\\nSkipping line 7512: expected 1 fields, saw 2\\nSkipping line 7513: expected 1 fields, saw 2\\nSkipping line 7514: expected 1 fields, saw 2\\nSkipping line 7515: expected 1 fields, saw 2\\nSkipping line 7516: expected 1 fields, saw 2\\nSkipping line 7517: expected 1 fields, saw 2\\nSkipping line 7519: expected 1 fields, saw 2\\nSkipping line 7520: expected 1 fields, saw 2\\nSkipping line 7521: expected 1 fields, saw 2\\nSkipping line 7522: expected 1 fields, saw 2\\nSkipping line 7525: expected 1 fields, saw 2\\nSkipping line 7526: expected 1 fields, saw 2\\nSkipping line 7527: expected 1 fields, saw 2\\nSkipping line 7530: expected 1 fields, saw 2\\nSkipping line 7531: expected 1 fields, saw 2\\nSkipping line 7532: expected 1 fields, saw 2\\nSkipping line 7534: expected 1 fields, saw 2\\nSkipping line 7535: expected 1 fields, saw 2\\nSkipping line 7536: expected 1 fields, saw 2\\nSkipping line 7539: expected 1 fields, saw 2\\nSkipping line 7540: expected 1 fields, saw 2\\nSkipping line 7542: expected 1 fields, saw 2\\nSkipping line 7543: expected 1 fields, saw 2\\nSkipping line 7544: expected 1 fields, saw 2\\nSkipping line 7545: expected 1 fields, saw 2\\nSkipping line 7546: expected 1 fields, saw 2\\nSkipping line 7547: expected 1 fields, saw 2\\nSkipping line 7548: expected 1 fields, saw 2\\nSkipping line 7549: expected 1 fields, saw 2\\nSkipping line 7550: expected 1 fields, saw 2\\nSkipping line 7552: expected 1 fields, saw 2\\nSkipping line 7553: expected 1 fields, saw 2\\nSkipping line 7554: expected 1 fields, saw 2\\nSkipping line 7555: expected 1 fields, saw 2\\nSkipping line 7556: expected 1 fields, saw 2\\nSkipping line 7557: expected 1 fields, saw 2\\nSkipping line 7558: expected 1 fields, saw 2\\nSkipping line 7559: expected 1 fields, saw 2\\nSkipping line 7560: expected 1 fields, saw 2\\nSkipping line 7561: expected 1 fields, saw 2\\nSkipping line 7564: expected 1 fields, saw 2\\nSkipping line 7565: expected 1 fields, saw 2\\nSkipping line 7567: expected 1 fields, saw 2\\nSkipping line 7568: expected 1 fields, saw 2\\nSkipping line 7569: expected 1 fields, saw 2\\nSkipping line 7570: expected 1 fields, saw 2\\nSkipping line 7572: expected 1 fields, saw 2\\nSkipping line 7573: expected 1 fields, saw 2\\nSkipping line 7574: expected 1 fields, saw 2\\nSkipping line 7575: expected 1 fields, saw 2\\nSkipping line 7576: expected 1 fields, saw 2\\nSkipping line 7577: expected 1 fields, saw 2\\nSkipping line 7578: expected 1 fields, saw 2\\nSkipping line 7579: expected 1 fields, saw 2\\nSkipping line 7581: expected 1 fields, saw 2\\nSkipping line 7582: expected 1 fields, saw 2\\nSkipping line 7583: expected 1 fields, saw 2\\nSkipping line 7586: expected 1 fields, saw 2\\nSkipping line 7587: expected 1 fields, saw 2\\nSkipping line 7588: expected 1 fields, saw 2\\nSkipping line 7589: expected 1 fields, saw 2\\nSkipping line 7590: expected 1 fields, saw 2\\nSkipping line 7591: expected 1 fields, saw 2\\nSkipping line 7594: expected 1 fields, saw 2\\nSkipping line 7596: expected 1 fields, saw 2\\nSkipping line 7597: expected 1 fields, saw 2\\nSkipping line 7599: expected 1 fields, saw 2\\nSkipping line 7600: expected 1 fields, saw 2\\nSkipping line 7602: expected 1 fields, saw 2\\nSkipping line 7604: expected 1 fields, saw 2\\nSkipping line 7605: expected 1 fields, saw 2\\nSkipping line 7607: expected 1 fields, saw 2\\nSkipping line 7608: expected 1 fields, saw 2\\nSkipping line 7610: expected 1 fields, saw 2\\nSkipping line 7611: expected 1 fields, saw 2\\nSkipping line 7612: expected 1 fields, saw 2\\nSkipping line 7614: expected 1 fields, saw 2\\nSkipping line 7615: expected 1 fields, saw 2\\nSkipping line 7616: expected 1 fields, saw 2\\nSkipping line 7617: expected 1 fields, saw 2\\nSkipping line 7618: expected 1 fields, saw 2\\nSkipping line 7619: expected 1 fields, saw 2\\nSkipping line 7621: expected 1 fields, saw 2\\nSkipping line 7623: expected 1 fields, saw 2\\nSkipping line 7625: expected 1 fields, saw 2\\nSkipping line 7626: expected 1 fields, saw 2\\nSkipping line 7628: expected 1 fields, saw 2\\nSkipping line 7629: expected 1 fields, saw 2\\nSkipping line 7630: expected 1 fields, saw 2\\nSkipping line 7631: expected 1 fields, saw 2\\nSkipping line 7632: expected 1 fields, saw 2\\nSkipping line 7633: expected 1 fields, saw 2\\nSkipping line 7634: expected 1 fields, saw 2\\nSkipping line 7635: expected 1 fields, saw 2\\nSkipping line 7636: expected 1 fields, saw 2\\nSkipping line 7637: expected 1 fields, saw 2\\nSkipping line 7639: expected 1 fields, saw 2\\nSkipping line 7640: expected 1 fields, saw 2\\nSkipping line 7641: expected 1 fields, saw 2\\nSkipping line 7642: expected 1 fields, saw 2\\nSkipping line 7643: expected 1 fields, saw 2\\nSkipping line 7644: expected 1 fields, saw 2\\nSkipping line 7645: expected 1 fields, saw 2\\nSkipping line 7646: expected 1 fields, saw 2\\nSkipping line 7647: expected 1 fields, saw 2\\nSkipping line 7648: expected 1 fields, saw 2\\nSkipping line 7649: expected 1 fields, saw 2\\nSkipping line 7651: expected 1 fields, saw 2\\nSkipping line 7652: expected 1 fields, saw 2\\nSkipping line 7653: expected 1 fields, saw 2\\nSkipping line 7654: expected 1 fields, saw 2\\nSkipping line 7655: expected 1 fields, saw 2\\nSkipping line 7656: expected 1 fields, saw 2\\nSkipping line 7657: expected 1 fields, saw 2\\nSkipping line 7659: expected 1 fields, saw 2\\nSkipping line 7660: expected 1 fields, saw 2\\nSkipping line 7662: expected 1 fields, saw 2\\nSkipping line 7663: expected 1 fields, saw 2\\nSkipping line 7666: expected 1 fields, saw 2\\nSkipping line 7667: expected 1 fields, saw 2\\nSkipping line 7668: expected 1 fields, saw 2\\nSkipping line 7669: expected 1 fields, saw 2\\nSkipping line 7670: expected 1 fields, saw 2\\nSkipping line 7671: expected 1 fields, saw 2\\nSkipping line 7673: expected 1 fields, saw 2\\nSkipping line 7674: expected 1 fields, saw 2\\nSkipping line 7675: expected 1 fields, saw 2\\nSkipping line 7676: expected 1 fields, saw 2\\nSkipping line 7677: expected 1 fields, saw 2\\nSkipping line 7678: expected 1 fields, saw 2\\nSkipping line 7679: expected 1 fields, saw 2\\nSkipping line 7680: expected 1 fields, saw 2\\nSkipping line 7681: expected 1 fields, saw 2\\nSkipping line 7682: expected 1 fields, saw 2\\nSkipping line 7683: expected 1 fields, saw 2\\nSkipping line 7684: expected 1 fields, saw 2\\nSkipping line 7685: expected 1 fields, saw 2\\nSkipping line 7686: expected 1 fields, saw 2\\nSkipping line 7688: expected 1 fields, saw 2\\nSkipping line 7692: expected 1 fields, saw 2\\nSkipping line 7694: expected 1 fields, saw 2\\nSkipping line 7695: expected 1 fields, saw 2\\nSkipping line 7697: expected 1 fields, saw 2\\nSkipping line 7711: expected 1 fields, saw 2\\nSkipping line 7712: expected 1 fields, saw 2\\nSkipping line 7714: expected 1 fields, saw 2\\nSkipping line 7715: expected 1 fields, saw 2\\nSkipping line 7716: expected 1 fields, saw 2\\nSkipping line 7717: expected 1 fields, saw 2\\nSkipping line 7718: expected 1 fields, saw 2\\nSkipping line 7719: expected 1 fields, saw 2\\nSkipping line 7720: expected 1 fields, saw 2\\nSkipping line 7721: expected 1 fields, saw 2\\nSkipping line 7722: expected 1 fields, saw 2\\nSkipping line 7724: expected 1 fields, saw 2\\nSkipping line 7725: expected 1 fields, saw 2\\nSkipping line 7726: expected 1 fields, saw 2\\nSkipping line 7728: expected 1 fields, saw 2\\nSkipping line 7729: expected 1 fields, saw 2\\nSkipping line 7730: expected 1 fields, saw 2\\nSkipping line 7731: expected 1 fields, saw 2\\nSkipping line 7732: expected 1 fields, saw 2\\nSkipping line 7733: expected 1 fields, saw 2\\nSkipping line 7734: expected 1 fields, saw 2\\nSkipping line 7735: expected 1 fields, saw 2\\nSkipping line 7736: expected 1 fields, saw 2\\nSkipping line 7737: expected 1 fields, saw 2\\nSkipping line 7738: expected 1 fields, saw 2\\nSkipping line 7739: expected 1 fields, saw 2\\nSkipping line 7740: expected 1 fields, saw 2\\nSkipping line 7741: expected 1 fields, saw 2\\nSkipping line 7742: expected 1 fields, saw 2\\nSkipping line 7743: expected 1 fields, saw 2\\nSkipping line 7744: expected 1 fields, saw 2\\nSkipping line 7746: expected 1 fields, saw 2\\nSkipping line 7747: expected 1 fields, saw 2\\nSkipping line 7748: expected 1 fields, saw 2\\nSkipping line 7749: expected 1 fields, saw 2\\nSkipping line 7750: expected 1 fields, saw 2\\nSkipping line 7751: expected 1 fields, saw 2\\nSkipping line 7755: expected 1 fields, saw 2\\nSkipping line 7756: expected 1 fields, saw 2\\nSkipping line 7757: expected 1 fields, saw 2\\nSkipping line 7761: expected 1 fields, saw 2\\nSkipping line 7763: expected 1 fields, saw 2\\nSkipping line 7764: expected 1 fields, saw 2\\nSkipping line 7765: expected 1 fields, saw 2\\nSkipping line 7768: expected 1 fields, saw 2\\nSkipping line 7769: expected 1 fields, saw 2\\nSkipping line 7770: expected 1 fields, saw 2\\nSkipping line 7771: expected 1 fields, saw 2\\nSkipping line 7772: expected 1 fields, saw 2\\nSkipping line 7774: expected 1 fields, saw 2\\nSkipping line 7776: expected 1 fields, saw 2\\nSkipping line 7778: expected 1 fields, saw 2\\nSkipping line 7779: expected 1 fields, saw 2\\nSkipping line 7780: expected 1 fields, saw 2\\nSkipping line 7781: expected 1 fields, saw 2\\nSkipping line 7783: expected 1 fields, saw 2\\nSkipping line 7784: expected 1 fields, saw 2\\nSkipping line 7785: expected 1 fields, saw 2\\nSkipping line 7786: expected 1 fields, saw 2\\nSkipping line 7788: expected 1 fields, saw 2\\nSkipping line 7790: expected 1 fields, saw 2\\nSkipping line 7791: expected 1 fields, saw 2\\nSkipping line 7792: expected 1 fields, saw 2\\nSkipping line 7793: expected 1 fields, saw 2\\nSkipping line 7794: expected 1 fields, saw 2\\nSkipping line 7798: expected 1 fields, saw 2\\nSkipping line 7799: expected 1 fields, saw 2\\nSkipping line 7800: expected 1 fields, saw 2\\nSkipping line 7801: expected 1 fields, saw 2\\nSkipping line 7802: expected 1 fields, saw 2\\nSkipping line 7803: expected 1 fields, saw 2\\n'\n"
     ]
    }
   ],
   "source": [
    "# 加载语料\n",
    "corpus = pd.read_csv(\"./data/corpus.csv\", encoding='utf-8', error_bad_lines=False)\n",
    "# 加载停用词\n",
    "stop_word = [word for word in open(\"./data/stopwords.txt\", 'r', encoding=\"utf-8\")]\n"
   ]
  },
  {
   "cell_type": "code",
   "execution_count": 16,
   "metadata": {},
   "outputs": [],
   "source": [
    "# 开始分词并保存（重新保存为txt文件）\n",
    "with open ('./data/corpus_cut.txt', 'w', encoding='utf-8') as f:\n",
    "    for row in corpus.itertuples():\n",
    "        # print(row[1])\n",
    "        text = clean_text(pd.Series(row[1]), stop_word)\n",
    "        # print(text[0])\n",
    "        f.write(' '.join(text[0]) + '\\n')\n",
    "print('分词完成')\n",
    "\n",
    "\n",
    "    "
   ]
  },
  {
   "cell_type": "code",
   "execution_count": 3,
   "metadata": {},
   "outputs": [],
   "source": [
    "# 4.词向量训练\n",
    "from gensim.models import Word2Vec\n",
    "from gensim.models.word2vec import LineSentence\n",
    " \n",
    "'''\n",
    "LineSentence(open('data.txt', 'r', encoding='utf8'))：该部分从文件'data.txt'中读取文本数据，并将其准备为句子序列，其中每个句子是一个单词列表。LineSentence类用于逐行读取文件并将每行拆分为单词。\n",
    "\n",
    "sg=0：该参数指定训练算法。这里，sg=0表示使用CBOW（Continuous Bag of Words）算法。如果sg=1，则表示使用Skip-gram算法。\n",
    "\n",
    "size=100：该参数设置单词向量的维度。在这种情况下，每个单词将由一个大小为100的向量表示。\n",
    "\n",
    "window=3：该参数确定上下文窗口大小。它指定目标单词与句子中上下文单词之间的最大距离。窗口大小为3意味着算法将考虑目标单词前面和后面的三个单词作为其上下文。\n",
    "\n",
    "min_count=1：该参数设置单词在训练过程中的最小出现次数。出现次数小于min_count的单词将被忽略。\n",
    "\n",
    "workers=8：该参数指定训练过程中要使用的线程数。它控制训练过程的并行化，并加快在多核系统上的训练速度。\n",
    "'''\n",
    "\n",
    "model = Word2Vec(\n",
    "    LineSentence(open('./data/corpus_cut.txt', 'r', encoding='utf8')),\n",
    "    sg = 0,\n",
    "    vector_size = 100,\n",
    "    window = 3,\n",
    "    min_count = 1,\n",
    "    workers=8\n",
    ")\n",
    " \n",
    "# 词向量保存\n",
    "model.wv.save_word2vec_format('./data/corpus.vector', binary=False)\n",
    " \n",
    "# 模型保存\n",
    "model.save('./model/corpus.model')"
   ]
  },
  {
   "cell_type": "code",
   "execution_count": 3,
   "metadata": {},
   "outputs": [],
   "source": [
    "# 词向量模型测试 \n",
    "from gensim.models import Word2Vec\n",
    "# 加载 .model 模型\n",
    "model = Word2Vec.load(\"./model/corpus.model\")\n",
    "\n",
    "# 转储为二进制格式\n",
    "model.wv.save_word2vec_format('./model/word2vec.bin', binary=True)\n"
   ]
  },
  {
   "cell_type": "code",
   "execution_count": 11,
   "metadata": {},
   "outputs": [
    {
     "name": "stdout",
     "output_type": "stream",
     "text": [
      "0.8775766\n"
     ]
    }
   ],
   "source": [
    "# 计算相似度\n",
    "model = Word2Vec.load('./model/corpus.model')\n",
    "\n",
    "word_vectors = model.wv\n",
    "\n",
    "similarity_score = word_vectors.similarity('暴雨', '洪涝') # 注意：这里的词语必须在语料中出现过，否则会报错\n",
    "\n",
    "print(similarity_score)"
   ]
  },
  {
   "attachments": {},
   "cell_type": "markdown",
   "metadata": {},
   "source": [
    "这里我们不直接使用这个训练好的词向量，我们将二进制的模型打包成gz格式的文件，替换掉synonyms原本的词向量文件（实测后发现这个效果甚至没有原来的词向量好...可能还是语料太小了）"
   ]
  }
 ],
 "metadata": {
  "kernelspec": {
   "display_name": "pytorch_py3.7",
   "language": "python",
   "name": "python3"
  },
  "language_info": {
   "codemirror_mode": {
    "name": "ipython",
    "version": 3
   },
   "file_extension": ".py",
   "mimetype": "text/x-python",
   "name": "python",
   "nbconvert_exporter": "python",
   "pygments_lexer": "ipython3",
   "version": "3.7.16"
  },
  "orig_nbformat": 4
 },
 "nbformat": 4,
 "nbformat_minor": 2
}
